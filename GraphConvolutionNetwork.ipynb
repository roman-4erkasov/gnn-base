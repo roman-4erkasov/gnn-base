{
  "nbformat": 4,
  "nbformat_minor": 0,
  "metadata": {
    "colab": {
      "provenance": [],
      "collapsed_sections": [
        "QrwAQVA0njTC",
        "Q-5pFcnh3mD6"
      ]
    },
    "kernelspec": {
      "name": "python3",
      "display_name": "Python 3"
    },
    "language_info": {
      "name": "python"
    }
  },
  "cells": [
    {
      "cell_type": "markdown",
      "source": [
        "[![Node Classification using GCN](https://colab.research.google.com/assets/colab-badge.svg)](https://colab.research.google.com/github/roman-4erkasov/gnn-base/blob/main/GraphConvolutionNetwork.ipynb)"
      ],
      "metadata": {
        "id": "wgOEMjP4J57F"
      }
    },
    {
      "cell_type": "markdown",
      "source": [
        "# Решение задачи из  СORA Dataset с помощью  Graph Convolution Network"
      ],
      "metadata": {
        "id": "DaJB02gDLw-c"
      }
    },
    {
      "cell_type": "markdown",
      "source": [
        "Оригинал взят из курса: https://lucmos.github.io/DLAI-s2-2020-tutorials/\n",
        "\n",
        "Ссылка на колаб: [DLAI-s2-2020](https://erodola.github.io/DLAI-s2-2020/)\n"
      ],
      "metadata": {
        "id": "HyzBa3LsLs6m"
      }
    },
    {
      "cell_type": "markdown",
      "source": [
        "## Подготовка данных"
      ],
      "metadata": {
        "id": "UREKTw4L4geE"
      }
    },
    {
      "cell_type": "code",
      "source": [
        "# @title Импорты\n",
        "import sys\n",
        "import math\n",
        "import torch as th\n",
        "import numpy as np\n",
        "import pandas as pd\n",
        "import matplotlib.pyplot as plt\n"
      ],
      "metadata": {
        "id": "vCG0KtrnLuDI"
      },
      "execution_count": null,
      "outputs": []
    },
    {
      "cell_type": "code",
      "source": [
        "# @title Скачиваем датасет и вспомогательные функции\n",
        "%%capture\n",
        "\n",
        "!git clone https://github.com/tkipf/pygcn.git\n",
        "\n",
        "sys.path.insert(0,'./pygcn/pygcn')\n",
        "from utils import load_data\n",
        "\n",
        "def get_predictions(output, labels):\n",
        "    preds = output.max(1)[1].type_as(labels)\n",
        "    correct = preds.eq(labels).double()\n",
        "    return correct\n",
        "\n",
        "def accuracy(output, labels):\n",
        "    correct = get_predictions(output, labels)\n",
        "    correct = correct.sum()\n",
        "    return correct / len(labels)\n"
      ],
      "metadata": {
        "id": "eMye6wI9Zhgz"
      },
      "execution_count": null,
      "outputs": []
    },
    {
      "cell_type": "code",
      "source": [
        "# @title Загружаем данные\n",
        "adj, features, labels, idx_train, idx_val, idx_test = load_data(path='pygcn/data/cora/')"
      ],
      "metadata": {
        "colab": {
          "base_uri": "https://localhost:8080/"
        },
        "id": "WvWLbvtbY5HH",
        "outputId": "de14a856-d304-4d17-a3ef-8ac4956e9d44"
      },
      "execution_count": null,
      "outputs": [
        {
          "output_type": "stream",
          "name": "stdout",
          "text": [
            "Loading cora dataset...\n"
          ]
        },
        {
          "output_type": "stream",
          "name": "stderr",
          "text": [
            "/content/./pygcn/pygcn/utils.py:80: UserWarning: torch.sparse.SparseTensor(indices, values, shape, *, device=) is deprecated.  Please use torch.sparse_coo_tensor(indices, values, shape, dtype=, device=). (Triggered internally at ../torch/csrc/utils/tensor_new.cpp:605.)\n",
            "  return torch.sparse.FloatTensor(indices, values, shape)\n"
          ]
        }
      ]
    },
    {
      "cell_type": "markdown",
      "source": [
        "## Решаем задачу с помощью MLP"
      ],
      "metadata": {
        "id": "QrwAQVA0njTC"
      }
    },
    {
      "cell_type": "code",
      "source": [
        "# @title Создаем MLP\n",
        "\n",
        "def mlp_accuracy(model):\n",
        "    model.eval()\n",
        "    y_pred = model(features[idx_test])\n",
        "    acc = accuracy(y_pred, labels[idx_test])\n",
        "    print(f\"Accuracy: {acc:.5}\")\n",
        "    return acc\n",
        "\n",
        "\n",
        "mlp = th.nn.Sequential(\n",
        "    th.nn.Linear(1433, 500),\n",
        "    th.nn.ReLU(),\n",
        "    th.nn.Linear(500, 100),\n",
        "    th.nn.ReLU(),\n",
        "    th.nn.Linear(100, 7)\n",
        ")\n",
        "\n",
        "_ = mlp_accuracy(mlp)"
      ],
      "metadata": {
        "colab": {
          "base_uri": "https://localhost:8080/"
        },
        "id": "eHQ3ggQJY5N2",
        "outputId": "6f4d1744-def8-4fdc-e1ec-85c548127a5d"
      },
      "execution_count": null,
      "outputs": [
        {
          "output_type": "stream",
          "name": "stdout",
          "text": [
            "Accuracy: 0.057\n"
          ]
        }
      ]
    },
    {
      "cell_type": "code",
      "source": [
        "# @title Обучаем MLP\n",
        "\n",
        "opt = th.optim.Adam(mlp.parameters())\n",
        "\n",
        "losses_mlp = []\n",
        "mlp.train()\n",
        "for epoch in range(1_000):\n",
        "    opt.zero_grad()\n",
        "    output = mlp(features[idx_train])\n",
        "    loss = th.nn.functional.cross_entropy(output, labels[idx_train])  # train only on the train samples\n",
        "    loss.backward()\n",
        "    opt.step()\n",
        "    losses_mlp.append(loss.item())\n",
        "    if epoch%200==0:\n",
        "      print(f\"{epoch=} loss={loss.item()}\")\n"
      ],
      "metadata": {
        "colab": {
          "base_uri": "https://localhost:8080/"
        },
        "id": "5uyu6siCaVwn",
        "outputId": "c41c1acd-1d65-4be5-9bdf-7dbe43eccf27"
      },
      "execution_count": null,
      "outputs": [
        {
          "output_type": "stream",
          "name": "stdout",
          "text": [
            "epoch=0 loss=1.9353984594345093\n",
            "epoch=200 loss=0.0034277255181223154\n",
            "epoch=400 loss=0.0005349637940526009\n",
            "epoch=600 loss=0.00021893135271966457\n",
            "epoch=800 loss=0.00011959824769292027\n"
          ]
        }
      ]
    },
    {
      "cell_type": "code",
      "source": [
        "accmlp = mlp_accuracy(mlp)"
      ],
      "metadata": {
        "colab": {
          "base_uri": "https://localhost:8080/"
        },
        "id": "cuciQJuRaV0L",
        "outputId": "947ef73a-208a-43b0-a137-0a5e7529b8ef"
      },
      "execution_count": null,
      "outputs": [
        {
          "output_type": "stream",
          "name": "stdout",
          "text": [
            "Accuracy: 0.493\n"
          ]
        }
      ]
    },
    {
      "cell_type": "code",
      "source": [
        "plt.plot(losses_mlp)\n",
        "plt.title(\"MLP learning curve\")"
      ],
      "metadata": {
        "colab": {
          "base_uri": "https://localhost:8080/",
          "height": 469
        },
        "id": "KX3OGq4goeAF",
        "outputId": "a85e428e-ef49-4903-cba5-9356297d5a95"
      },
      "execution_count": null,
      "outputs": [
        {
          "output_type": "execute_result",
          "data": {
            "text/plain": [
              "Text(0.5, 1.0, 'MLP learning curve')"
            ]
          },
          "metadata": {},
          "execution_count": 80
        },
        {
          "output_type": "display_data",
          "data": {
            "text/plain": [
              "<Figure size 640x480 with 1 Axes>"
            ],
            "image/png": "[encoded data removed]"
          },
          "metadata": {}
        }
      ]
    },
    {
      "cell_type": "markdown",
      "source": [
        "## Graph Convolution Network"
      ],
      "metadata": {
        "id": "sxmSJ2L6cPnS"
      }
    },
    {
      "cell_type": "code",
      "source": [
        "# @title Создаем GCN\n",
        "\n",
        "class GCNConv(th.nn.Module):\n",
        "    def __init__(self, in_features, out_features):\n",
        "        super().__init__()\n",
        "        self.weight = th.nn.Parameter(th.FloatTensor(in_features, out_features))\n",
        "        self.bias = th.nn.Parameter(th.FloatTensor(out_features))\n",
        "        self.reset_parameters()\n",
        "\n",
        "    def forward(self, input, adj):\n",
        "        support = th.spmm(adj,input)\n",
        "        out = th.spmm(support, self.weight)+self.bias\n",
        "        return out\n",
        "\n",
        "    def reset_parameters(self):\n",
        "        stdv = 1. / math.sqrt(self.weight.size(1))\n",
        "        self.weight.data.uniform_(-stdv, stdv)\n",
        "        self.bias.data.uniform_(-stdv, stdv)\n",
        "\n",
        "\n",
        "\n",
        "class GCN(th.nn.Module):\n",
        "    def __init__(self, nfeat, nhid, nclass):\n",
        "        super().__init__()\n",
        "        self.gc1 = GCNConv(nfeat, nhid)\n",
        "        self.gc2 = GCNConv(nhid, nclass)\n",
        "\n",
        "    def forward(self, x, adj):\n",
        "        x = th.nn.functional.relu(self.gc1(x, adj))\n",
        "        x = self.gc2(x, adj)\n",
        "        return x\n",
        "\n",
        "\n",
        "def gcn_accuracy(model):\n",
        "    model.eval()\n",
        "    y_pred = model(features, adj)  # Do you notice the difference?\n",
        "    acc = accuracy(y_pred[idx_test], labels[idx_test])\n",
        "    print(f\"Accuracy: {acc:.5}\")\n",
        "    return acc\n",
        "\n",
        "\n",
        "gcn = GCN(1433, 50, 7)\n",
        "\n",
        "print(\"Loss before training\")\n",
        "_ = gcn_accuracy(gcn)"
      ],
      "metadata": {
        "colab": {
          "base_uri": "https://localhost:8080/"
        },
        "id": "Uua1pfPMaV3t",
        "outputId": "e5924e9f-530f-4e65-af31-3248d7151b28"
      },
      "execution_count": null,
      "outputs": [
        {
          "output_type": "stream",
          "name": "stdout",
          "text": [
            "Loss before training\n",
            "Accuracy: 0.057\n"
          ]
        }
      ]
    },
    {
      "cell_type": "code",
      "source": [
        "# @title Обучаем GCN\n",
        "opt = th.optim.Adam(gcn.parameters())\n",
        "\n",
        "losses_gcn = []\n",
        "gcn.train()\n",
        "\n",
        "for epoch in range(2000):\n",
        "    opt.zero_grad()\n",
        "    output = gcn(features, adj)  # compute all outputs, even for the nodes in the test set\n",
        "    loss = th.nn.functional.cross_entropy(\n",
        "        output[idx_train], labels[idx_train]\n",
        "    )  # Train only on the train samples!\n",
        "    loss.backward()\n",
        "    opt.step()\n",
        "    losses_gcn.append(loss.item())\n",
        "    if epoch % 200 == 0:\n",
        "      print(f\"{epoch=} loss={loss.item()}\")"
      ],
      "metadata": {
        "colab": {
          "base_uri": "https://localhost:8080/"
        },
        "id": "7torXFrFclPB",
        "outputId": "b64b64f5-564b-4f40-e75c-53f697c5c0e6"
      },
      "execution_count": null,
      "outputs": [
        {
          "output_type": "stream",
          "name": "stdout",
          "text": [
            "epoch=0 loss=2.003244400024414\n",
            "epoch=200 loss=1.053797721862793\n",
            "epoch=400 loss=0.3771067261695862\n",
            "epoch=600 loss=0.1557064950466156\n",
            "epoch=800 loss=0.07784589380025864\n",
            "epoch=1000 loss=0.04461335763335228\n",
            "epoch=1200 loss=0.02808401547372341\n",
            "epoch=1400 loss=0.01893133856356144\n",
            "epoch=1600 loss=0.013437125831842422\n",
            "epoch=1800 loss=0.009917529299855232\n"
          ]
        }
      ]
    },
    {
      "cell_type": "code",
      "source": [
        "accgcn = gcn_accuracy(gcn)"
      ],
      "metadata": {
        "colab": {
          "base_uri": "https://localhost:8080/"
        },
        "id": "p70KlMc9eZk9",
        "outputId": "b6a18709-10a1-440e-b0c9-95ae06d4cbb2"
      },
      "execution_count": null,
      "outputs": [
        {
          "output_type": "stream",
          "name": "stdout",
          "text": [
            "Accuracy: 0.797\n"
          ]
        }
      ]
    },
    {
      "cell_type": "code",
      "source": [
        "plt.plot(losses_gcn)\n",
        "plt.title(\"GCN learning curve\")"
      ],
      "metadata": {
        "colab": {
          "base_uri": "https://localhost:8080/",
          "height": 469
        },
        "id": "RZeaQYcEeiQB",
        "outputId": "1fa4fec0-6a6b-48d9-ca14-9bd864c21a9b"
      },
      "execution_count": null,
      "outputs": [
        {
          "output_type": "execute_result",
          "data": {
            "text/plain": [
              "Text(0.5, 1.0, 'GCN learning curve')"
            ]
          },
          "metadata": {},
          "execution_count": 72
        },
        {
          "output_type": "display_data",
          "data": {
            "text/plain": [
              "<Figure size 640x480 with 1 Axes>"
            ],
            "image/png": "[encoded data removed]"
          },
          "metadata": {}
        }
      ]
    },
    {
      "cell_type": "markdown",
      "source": [
        "## Pytorch Geometric"
      ],
      "metadata": {
        "id": "Q-5pFcnh3mD6"
      }
    },
    {
      "cell_type": "code",
      "source": [
        "# @title Устанавливаем и импортируем PyG\n",
        "%%capture\n",
        "\n",
        "%pip install torch_geometric\n",
        "import torch_geometric as pyg"
      ],
      "metadata": {
        "id": "ouryR_iOes2t"
      },
      "execution_count": null,
      "outputs": []
    },
    {
      "cell_type": "code",
      "source": [
        "# @title Конвертируем матрицу смежности в список ребер\n",
        "\n",
        "edge_list = []\n",
        "adj_dense = adj.to_dense()\n",
        "for i in range(adj_dense.shape[0]):\n",
        "    for j in range(adj_dense.shape[1]):\n",
        "         if adj_dense[i][j] >0:\n",
        "             edge_list.append((i,j))\n",
        "edge_index = th.LongTensor(edge_list).T"
      ],
      "metadata": {
        "id": "HkdvTiPsvHDm"
      },
      "execution_count": null,
      "outputs": []
    },
    {
      "cell_type": "code",
      "source": [
        "# @title Создаем GCN\n",
        "class GCN(th.nn.Module):\n",
        "    def __init__(self, in_channels, hidden_channels, out_channels):\n",
        "        super().__init__()\n",
        "        self.conv1 = pyg.nn.GCNConv(in_channels, hidden_channels)\n",
        "        self.conv2 = pyg.nn.GCNConv(hidden_channels, out_channels)\n",
        "\n",
        "    def forward(self, x, edge_index, edge_weight=None):\n",
        "        x = th.nn.functional.dropout(x, p=0.3, training=self.training)\n",
        "        x = self.conv1(x, edge_index, edge_weight).relu()\n",
        "        x = th.nn.functional.dropout(x, p=0.3, training=self.training)\n",
        "        x = self.conv2(x, edge_index, edge_weight)\n",
        "        return x\n",
        "\n",
        "def gcn_accuracy(model):\n",
        "    \"\"\"\n",
        "    Perfom a forward pass `y_pred = model(x)` and computes the accuracy\n",
        "    between `y_pred` and `y_true`.\n",
        "\n",
        "    It is particuarly tricky to perform batching in GCN.\n",
        "    As you can see, here the forward pass is performed on the whole graph\n",
        "    \"\"\"\n",
        "    model.eval()\n",
        "    y_pred = model(features, edge_index)  # Do you notice the difference?\n",
        "    acc = accuracy(y_pred[idx_test], labels[idx_test])\n",
        "    print(f\"Accuracy: {acc:.5}\")\n",
        "    return acc"
      ],
      "metadata": {
        "id": "xp2pN1Y1tlys"
      },
      "execution_count": null,
      "outputs": []
    },
    {
      "cell_type": "code",
      "source": [
        "# @title Обучаем GCN\n",
        "\n",
        "model = GCN(\n",
        "    in_channels=1433,\n",
        "    hidden_channels=50,\n",
        "    out_channels=7,\n",
        ")\n",
        "optimizer = th.optim.Adam(model.parameters(), lr=0.001)\n",
        "losses_pyg = []\n",
        "gcn.train()\n",
        "for epoch in range(2000):\n",
        "    opt.zero_grad()\n",
        "    output = model(features, edge_index)\n",
        "    loss = th.nn.functional.cross_entropy(output[idx_train], labels[idx_train])\n",
        "    loss.backward()\n",
        "    optimizer.step()\n",
        "    losses_pyg.append(loss.item())\n",
        "    if epoch % 200 == 0:\n",
        "      print(f\"{epoch=} loss={loss.item()}\")\n"
      ],
      "metadata": {
        "colab": {
          "base_uri": "https://localhost:8080/"
        },
        "id": "n5LhV7UTuwCx",
        "outputId": "3d3ec344-7519-40f4-c232-347d6bb4adee"
      },
      "execution_count": null,
      "outputs": [
        {
          "output_type": "stream",
          "name": "stdout",
          "text": [
            "epoch=0 loss=1.947059154510498\n",
            "epoch=200 loss=0.6759541034698486\n",
            "epoch=400 loss=0.13573549687862396\n",
            "epoch=600 loss=0.03772939369082451\n",
            "epoch=800 loss=0.010181263089179993\n",
            "epoch=1000 loss=0.004594914615154266\n",
            "epoch=1200 loss=0.000722023076377809\n",
            "epoch=1400 loss=0.0025770054198801517\n",
            "epoch=1600 loss=0.0011901372345164418\n",
            "epoch=1800 loss=0.0003338935784995556\n"
          ]
        }
      ]
    },
    {
      "cell_type": "code",
      "source": [
        "_=gcn_accuracy(model)"
      ],
      "metadata": {
        "colab": {
          "base_uri": "https://localhost:8080/"
        },
        "id": "cA46UXFgycB_",
        "outputId": "23160894-f491-4dcf-9393-7aa58e7c49a0"
      },
      "execution_count": null,
      "outputs": [
        {
          "output_type": "stream",
          "name": "stdout",
          "text": [
            "Accuracy: 0.74\n"
          ]
        },
        {
          "output_type": "execute_result",
          "data": {
            "text/plain": [
              "tensor(0.7400, dtype=torch.float64)"
            ]
          },
          "metadata": {},
          "execution_count": 123
        }
      ]
    },
    {
      "cell_type": "code",
      "source": [
        "plt.plot(losses_pyg)\n",
        "plt.title(\"GCN learning curve\")"
      ],
      "metadata": {
        "colab": {
          "base_uri": "https://localhost:8080/",
          "height": 469
        },
        "id": "RiHuZOYLzPot",
        "outputId": "5e7bde1e-a04f-4cd5-8c75-367dca554761"
      },
      "execution_count": null,
      "outputs": [
        {
          "output_type": "execute_result",
          "data": {
            "text/plain": [
              "Text(0.5, 1.0, 'GCN learning curve')"
            ]
          },
          "metadata": {},
          "execution_count": 124
        },
        {
          "output_type": "display_data",
          "data": {
            "text/plain": [
              "<Figure size 640x480 with 1 Axes>"
            ],
            "image/png": "[encoded data removed]"
          },
          "metadata": {}
        }
      ]
    },
    {
      "cell_type": "code",
      "source": [],
      "metadata": {
        "id": "j6VPZ0lFz4u0"
      },
      "execution_count": null,
      "outputs": []
    }
  ]
}